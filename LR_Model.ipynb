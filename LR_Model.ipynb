{
 "cells": [
  {
   "cell_type": "markdown",
   "id": "434b2546",
   "metadata": {},
   "source": [
    "# Content \n",
    "\n",
    "\n",
    "<a href=\"#Imports\">1. Imports </a>\n",
    "\n",
    "<a href=\"url\">2. Load Data</a>\n",
    "\n",
    "<a href=\"url\">3. Data Formating</a>\n",
    "\n",
    "<a href=\"url\">4. Exploratory Data Analysis</a>\n",
    "\n",
    "<a href=\"url\">5. Data prep</a>\n",
    "\n",
    "<a href=\"url\">6. Experimentations</a>"
   ]
  },
  {
   "cell_type": "markdown",
   "id": "e7625c3f",
   "metadata": {},
   "source": [
    "# <a> Imports </a>"
   ]
  },
  {
   "cell_type": "code",
   "execution_count": 289,
   "id": "f334b11c",
   "metadata": {},
   "outputs": [],
   "source": [
    "import pandas as pd \n",
    "import seaborn as sns\n",
    "import matplotlib as plt\n",
    "import numpy as np\n",
    "import matplotlib.pyplot as plt \n",
    "from sklearn.linear_model import LinearRegression\n",
    "from sklearn.model_selection import train_test_split\n",
    "from sklearn.preprocessing import PolynomialFeatures\n",
    "from sklearn.pipeline import make_pipeline\n",
    "from sklearn.linear_model import LinearRegression\n",
    "from sklearn import preprocessing\n",
    "from sklearn import metrics\n",
    "import re\n"
   ]
  },
  {
   "cell_type": "markdown",
   "id": "550f42b6",
   "metadata": {},
   "source": [
    "# <a> Load Data </a>"
   ]
  },
  {
   "cell_type": "code",
   "execution_count": 315,
   "id": "ca7d3f52",
   "metadata": {},
   "outputs": [],
   "source": [
    "df=pd.read_csv('steam_discounts.csv').drop('Unnamed: 0',axis=1)"
   ]
  },
  {
   "cell_type": "code",
   "execution_count": 316,
   "id": "756655bb",
   "metadata": {
    "scrolled": true
   },
   "outputs": [],
   "source": [
    "#formatting numerical values \n",
    "df['price']=df['price'].apply(lambda x : re.sub(\"[^0-9//.]\", \"\", x))\n",
    "df['rating']=df['rating'].apply(lambda x : re.sub(\"[^0-9//.]\", \"\", x))\n",
    "df['discount']=df['discount'].apply(lambda x : re.sub(\"[^0-9]\", \"\", x))"
   ]
  },
  {
   "cell_type": "code",
   "execution_count": 317,
   "id": "07341154",
   "metadata": {},
   "outputs": [],
   "source": [
    "df['discount'].replace('', None,inplace=True)\n",
    "df['rating'].replace('', None,inplace=True)"
   ]
  },
  {
   "cell_type": "code",
   "execution_count": 318,
   "id": "4a8056d7",
   "metadata": {},
   "outputs": [],
   "source": [
    "df['price']=df['price'].astype(float)\n",
    "df['rating']=df['rating'].astype(float)\n",
    "df['discount']=df['discount'].astype(float)"
   ]
  },
  {
   "cell_type": "code",
   "execution_count": 319,
   "id": "5c25c54e",
   "metadata": {},
   "outputs": [],
   "source": [
    "df['discount']=df.apply(lambda row: float(row['discount']) * 0.01,axis=1)"
   ]
  },
  {
   "cell_type": "code",
   "execution_count": 320,
   "id": "bf19f635",
   "metadata": {},
   "outputs": [],
   "source": [
    "df['op']=df.apply(lambda row: abs(row['price']/1-(row['discount']*100)),axis=1)"
   ]
  },
  {
   "cell_type": "code",
   "execution_count": 321,
   "id": "31623760",
   "metadata": {},
   "outputs": [
    {
     "data": {
      "text/html": [
       "<div>\n",
       "<style scoped>\n",
       "    .dataframe tbody tr th:only-of-type {\n",
       "        vertical-align: middle;\n",
       "    }\n",
       "\n",
       "    .dataframe tbody tr th {\n",
       "        vertical-align: top;\n",
       "    }\n",
       "\n",
       "    .dataframe thead th {\n",
       "        text-align: right;\n",
       "    }\n",
       "</style>\n",
       "<table border=\"1\" class=\"dataframe\">\n",
       "  <thead>\n",
       "    <tr style=\"text-align: right;\">\n",
       "      <th></th>\n",
       "      <th>name</th>\n",
       "      <th>price</th>\n",
       "      <th>rating</th>\n",
       "      <th>dis_ends</th>\n",
       "      <th>dis_start</th>\n",
       "      <th>release</th>\n",
       "      <th>discount</th>\n",
       "      <th>op</th>\n",
       "    </tr>\n",
       "  </thead>\n",
       "  <tbody>\n",
       "    <tr>\n",
       "      <th>0</th>\n",
       "      <td>Little Inferno\\nnew historical low</td>\n",
       "      <td>2.99</td>\n",
       "      <td>91.28</td>\n",
       "      <td>in 3 days</td>\n",
       "      <td>4 hours ago</td>\n",
       "      <td>9 years ago</td>\n",
       "      <td>0.90</td>\n",
       "      <td>87.01</td>\n",
       "    </tr>\n",
       "    <tr>\n",
       "      <th>1</th>\n",
       "      <td>Human Resource Machine\\nnew historical low</td>\n",
       "      <td>7.48</td>\n",
       "      <td>90.11</td>\n",
       "      <td>in 3 days</td>\n",
       "      <td>4 hours ago</td>\n",
       "      <td>6 years ago</td>\n",
       "      <td>0.75</td>\n",
       "      <td>67.52</td>\n",
       "    </tr>\n",
       "    <tr>\n",
       "      <th>2</th>\n",
       "      <td>HIVESWAP: ACT 1\\nnew historical low</td>\n",
       "      <td>6.28</td>\n",
       "      <td>89.56</td>\n",
       "      <td>in 2 days</td>\n",
       "      <td>4 hours ago</td>\n",
       "      <td>4 years ago</td>\n",
       "      <td>0.65</td>\n",
       "      <td>58.72</td>\n",
       "    </tr>\n",
       "    <tr>\n",
       "      <th>3</th>\n",
       "      <td>7 Billion Humans\\nnew historical low</td>\n",
       "      <td>7.48</td>\n",
       "      <td>88.34</td>\n",
       "      <td>in 3 days</td>\n",
       "      <td>4 hours ago</td>\n",
       "      <td>3 years ago</td>\n",
       "      <td>0.75</td>\n",
       "      <td>67.52</td>\n",
       "    </tr>\n",
       "    <tr>\n",
       "      <th>4</th>\n",
       "      <td>Pesterquest\\nnew historical low</td>\n",
       "      <td>8.48</td>\n",
       "      <td>86.06</td>\n",
       "      <td>in 2 days</td>\n",
       "      <td>4 hours ago</td>\n",
       "      <td>2 years ago</td>\n",
       "      <td>0.66</td>\n",
       "      <td>57.52</td>\n",
       "    </tr>\n",
       "  </tbody>\n",
       "</table>\n",
       "</div>"
      ],
      "text/plain": [
       "                                         name  price  rating   dis_ends  \\\n",
       "0          Little Inferno\\nnew historical low   2.99   91.28  in 3 days   \n",
       "1  Human Resource Machine\\nnew historical low   7.48   90.11  in 3 days   \n",
       "2         HIVESWAP: ACT 1\\nnew historical low   6.28   89.56  in 2 days   \n",
       "3        7 Billion Humans\\nnew historical low   7.48   88.34  in 3 days   \n",
       "4             Pesterquest\\nnew historical low   8.48   86.06  in 2 days   \n",
       "\n",
       "     dis_start      release  discount     op  \n",
       "0  4 hours ago  9 years ago      0.90  87.01  \n",
       "1  4 hours ago  6 years ago      0.75  67.52  \n",
       "2  4 hours ago  4 years ago      0.65  58.72  \n",
       "3  4 hours ago  3 years ago      0.75  67.52  \n",
       "4  4 hours ago  2 years ago      0.66  57.52  "
      ]
     },
     "execution_count": 321,
     "metadata": {},
     "output_type": "execute_result"
    }
   ],
   "source": [
    "df.head()"
   ]
  },
  {
   "cell_type": "markdown",
   "id": "eb180273",
   "metadata": {},
   "source": [
    "# baseline model "
   ]
  },
  {
   "cell_type": "code",
   "execution_count": 322,
   "id": "35a680ed",
   "metadata": {},
   "outputs": [],
   "source": [
    "X=df[['rating','op']]#only numerical\n",
    "y=df.discount"
   ]
  },
  {
   "cell_type": "code",
   "execution_count": 333,
   "id": "09d2c97c",
   "metadata": {},
   "outputs": [],
   "source": [
    "X_train, X_test, y_train, y_test = train_test_split(X, y, test_size=0.2, random_state=1)\n",
    "\n",
    "X_train, X_val, y_train, y_val = train_test_split(X_train, y_train, test_size=0.25, random_state=1)"
   ]
  },
  {
   "cell_type": "code",
   "execution_count": 334,
   "id": "e26c9725",
   "metadata": {},
   "outputs": [
    {
     "data": {
      "text/plain": [
       "LinearRegression()"
      ]
     },
     "execution_count": 334,
     "metadata": {},
     "output_type": "execute_result"
    }
   ],
   "source": [
    "regressor = LinearRegression()\n",
    "regressor.fit(X_train, y_train)"
   ]
  },
  {
   "cell_type": "code",
   "execution_count": 335,
   "id": "7f919483",
   "metadata": {},
   "outputs": [
    {
     "data": {
      "text/plain": [
       "0.8194440052825537"
      ]
     },
     "execution_count": 335,
     "metadata": {},
     "output_type": "execute_result"
    }
   ],
   "source": [
    "regressor.score(X_train, y_train)"
   ]
  },
  {
   "cell_type": "code",
   "execution_count": 336,
   "id": "10701a3c",
   "metadata": {},
   "outputs": [
    {
     "data": {
      "text/plain": [
       "0.8197733391363717"
      ]
     },
     "execution_count": 336,
     "metadata": {},
     "output_type": "execute_result"
    }
   ],
   "source": [
    "regressor.score(X_val, y_val)"
   ]
  },
  {
   "cell_type": "code",
   "execution_count": 337,
   "id": "04b6231c",
   "metadata": {},
   "outputs": [],
   "source": [
    "y_predicted=regressor.predict(X_test)"
   ]
  },
  {
   "cell_type": "code",
   "execution_count": 338,
   "id": "9acdb3d6",
   "metadata": {},
   "outputs": [
    {
     "data": {
      "image/png": "[encoded data removed]",
      "text/plain": [
       "<Figure size 432x288 with 1 Axes>"
      ]
     },
     "metadata": {
      "needs_background": "light"
     },
     "output_type": "display_data"
    }
   ],
   "source": [
    "fig, ax = plt.subplots()\n",
    "ax.scatter(y_predicted, y_test, edgecolors=(0, 0, 1))\n",
    "ax.plot([y_test.min(), y_test.max()], [y_test.min(), y_test.max()], 'r--', lw=3)\n",
    "ax.set_xlabel('Predicted')\n",
    "ax.set_ylabel('Actual')\n",
    "plt.show()"
   ]
  },
  {
   "cell_type": "markdown",
   "id": "96ed22a6",
   "metadata": {},
   "source": [
    "## checking results "
   ]
  },
  {
   "cell_type": "code",
   "execution_count": null,
   "id": "571c7e65",
   "metadata": {},
   "outputs": [],
   "source": [
    "y_pred = regressor.predict(X_test)"
   ]
  },
  {
   "cell_type": "code",
   "execution_count": null,
   "id": "60cf8d36",
   "metadata": {},
   "outputs": [],
   "source": [
    "df_res = pd.DataFrame({'Actual': y_test, 'Predicted': y_pred})\n",
    "df_res"
   ]
  },
  {
   "cell_type": "markdown",
   "id": "ed0c4f3d",
   "metadata": {},
   "source": [
    "# Data Prep"
   ]
  },
  {
   "cell_type": "code",
   "execution_count": 94,
   "id": "9640e7fa",
   "metadata": {},
   "outputs": [],
   "source": [
    "df=pd.read_csv('steam_discounts.csv').drop('Unnamed: 0',axis=1)\n"
   ]
  },
  {
   "cell_type": "code",
   "execution_count": 95,
   "id": "c480beae",
   "metadata": {},
   "outputs": [
    {
     "data": {
      "text/html": [
       "<div>\n",
       "<style scoped>\n",
       "    .dataframe tbody tr th:only-of-type {\n",
       "        vertical-align: middle;\n",
       "    }\n",
       "\n",
       "    .dataframe tbody tr th {\n",
       "        vertical-align: top;\n",
       "    }\n",
       "\n",
       "    .dataframe thead th {\n",
       "        text-align: right;\n",
       "    }\n",
       "</style>\n",
       "<table border=\"1\" class=\"dataframe\">\n",
       "  <thead>\n",
       "    <tr style=\"text-align: right;\">\n",
       "      <th></th>\n",
       "      <th>name</th>\n",
       "      <th>price</th>\n",
       "      <th>rating</th>\n",
       "      <th>dis_ends</th>\n",
       "      <th>dis_start</th>\n",
       "      <th>release</th>\n",
       "      <th>discount</th>\n",
       "    </tr>\n",
       "  </thead>\n",
       "  <tbody>\n",
       "    <tr>\n",
       "      <th>0</th>\n",
       "      <td>Little Inferno\\nnew historical low</td>\n",
       "      <td>2.99 SR</td>\n",
       "      <td>91.28%</td>\n",
       "      <td>in 3 days</td>\n",
       "      <td>4 hours ago</td>\n",
       "      <td>9 years ago</td>\n",
       "      <td>-90%</td>\n",
       "    </tr>\n",
       "    <tr>\n",
       "      <th>1</th>\n",
       "      <td>Human Resource Machine\\nnew historical low</td>\n",
       "      <td>7.48 SR</td>\n",
       "      <td>90.11%</td>\n",
       "      <td>in 3 days</td>\n",
       "      <td>4 hours ago</td>\n",
       "      <td>6 years ago</td>\n",
       "      <td>-75%</td>\n",
       "    </tr>\n",
       "    <tr>\n",
       "      <th>2</th>\n",
       "      <td>HIVESWAP: ACT 1\\nnew historical low</td>\n",
       "      <td>6.28 SR</td>\n",
       "      <td>89.56%</td>\n",
       "      <td>in 2 days</td>\n",
       "      <td>4 hours ago</td>\n",
       "      <td>4 years ago</td>\n",
       "      <td>-65%</td>\n",
       "    </tr>\n",
       "    <tr>\n",
       "      <th>3</th>\n",
       "      <td>7 Billion Humans\\nnew historical low</td>\n",
       "      <td>7.48 SR</td>\n",
       "      <td>88.34%</td>\n",
       "      <td>in 3 days</td>\n",
       "      <td>4 hours ago</td>\n",
       "      <td>3 years ago</td>\n",
       "      <td>-75%</td>\n",
       "    </tr>\n",
       "    <tr>\n",
       "      <th>4</th>\n",
       "      <td>Pesterquest\\nnew historical low</td>\n",
       "      <td>8.48 SR</td>\n",
       "      <td>86.06%</td>\n",
       "      <td>in 2 days</td>\n",
       "      <td>4 hours ago</td>\n",
       "      <td>2 years ago</td>\n",
       "      <td>-66%</td>\n",
       "    </tr>\n",
       "  </tbody>\n",
       "</table>\n",
       "</div>"
      ],
      "text/plain": [
       "                                         name    price  rating   dis_ends  \\\n",
       "0          Little Inferno\\nnew historical low  2.99 SR  91.28%  in 3 days   \n",
       "1  Human Resource Machine\\nnew historical low  7.48 SR  90.11%  in 3 days   \n",
       "2         HIVESWAP: ACT 1\\nnew historical low  6.28 SR  89.56%  in 2 days   \n",
       "3        7 Billion Humans\\nnew historical low  7.48 SR  88.34%  in 3 days   \n",
       "4             Pesterquest\\nnew historical low  8.48 SR  86.06%  in 2 days   \n",
       "\n",
       "     dis_start      release discount  \n",
       "0  4 hours ago  9 years ago     -90%  \n",
       "1  4 hours ago  6 years ago     -75%  \n",
       "2  4 hours ago  4 years ago     -65%  \n",
       "3  4 hours ago  3 years ago     -75%  \n",
       "4  4 hours ago  2 years ago     -66%  "
      ]
     },
     "execution_count": 95,
     "metadata": {},
     "output_type": "execute_result"
    }
   ],
   "source": [
    "df.head()"
   ]
  },
  {
   "cell_type": "code",
   "execution_count": 96,
   "id": "be226d67",
   "metadata": {},
   "outputs": [
    {
     "data": {
      "text/plain": [
       "name           0\n",
       "price          0\n",
       "rating         0\n",
       "dis_ends     219\n",
       "dis_start    219\n",
       "release      219\n",
       "discount       0\n",
       "dtype: int64"
      ]
     },
     "execution_count": 96,
     "metadata": {},
     "output_type": "execute_result"
    }
   ],
   "source": [
    "df.isna().sum()"
   ]
  },
  {
   "cell_type": "code",
   "execution_count": 97,
   "id": "c3d0d78f",
   "metadata": {},
   "outputs": [],
   "source": [
    "df['release'].fillna(df['release'].mode(),inplace=True)"
   ]
  },
  {
   "cell_type": "code",
   "execution_count": 98,
   "id": "0111ce12",
   "metadata": {},
   "outputs": [],
   "source": [
    "df['rating'].fillna(df['rating'].mode(),inplace=True)"
   ]
  },
  {
   "cell_type": "code",
   "execution_count": 99,
   "id": "ce812360",
   "metadata": {},
   "outputs": [],
   "source": [
    "df['dis_ends'].fillna(df['dis_ends'].mode(),inplace=True)"
   ]
  },
  {
   "cell_type": "code",
   "execution_count": 100,
   "id": "fe0cae6d",
   "metadata": {},
   "outputs": [],
   "source": [
    "df['dis_start'].fillna(df['dis_start'].mode(),inplace=True)"
   ]
  },
  {
   "cell_type": "code",
   "execution_count": 101,
   "id": "428365d8",
   "metadata": {},
   "outputs": [
    {
     "data": {
      "text/plain": [
       "name           0\n",
       "price          0\n",
       "rating         0\n",
       "dis_ends     219\n",
       "dis_start    219\n",
       "release      219\n",
       "discount       0\n",
       "dtype: int64"
      ]
     },
     "execution_count": 101,
     "metadata": {},
     "output_type": "execute_result"
    }
   ],
   "source": [
    "df.isna().sum()"
   ]
  },
  {
   "cell_type": "code",
   "execution_count": 102,
   "id": "750f7b2a",
   "metadata": {},
   "outputs": [
    {
     "name": "stdout",
     "output_type": "stream",
     "text": [
      "<class 'pandas.core.frame.DataFrame'>\n",
      "RangeIndex: 987 entries, 0 to 986\n",
      "Data columns (total 7 columns):\n",
      " #   Column     Non-Null Count  Dtype \n",
      "---  ------     --------------  ----- \n",
      " 0   name       987 non-null    object\n",
      " 1   price      987 non-null    object\n",
      " 2   rating     987 non-null    object\n",
      " 3   dis_ends   768 non-null    object\n",
      " 4   dis_start  768 non-null    object\n",
      " 5   release    768 non-null    object\n",
      " 6   discount   987 non-null    object\n",
      "dtypes: object(7)\n",
      "memory usage: 54.1+ KB\n"
     ]
    }
   ],
   "source": [
    "df.info()"
   ]
  },
  {
   "cell_type": "markdown",
   "id": "213a905d",
   "metadata": {},
   "source": [
    "# Data Formatting "
   ]
  },
  {
   "cell_type": "code",
   "execution_count": 103,
   "id": "6336688b",
   "metadata": {
    "scrolled": true
   },
   "outputs": [],
   "source": [
    "#formatting numerical values \n",
    "df['price']=df['price'].apply(lambda x : re.sub(\"[^0-9//.]\", \"\", x))\n",
    "df['rating']=df['rating'].apply(lambda x : re.sub(\"[^0-9//.]\", \"\", x))\n",
    "df['discount']=df['discount'].apply(lambda x : re.sub(\"[^0-9]\", \"\", x))"
   ]
  },
  {
   "cell_type": "code",
   "execution_count": 104,
   "id": "e0c7085b",
   "metadata": {},
   "outputs": [],
   "source": [
    "df['discount'].replace('', None,inplace=True)\n",
    "df['rating'].replace('', None,inplace=True)"
   ]
  },
  {
   "cell_type": "code",
   "execution_count": 105,
   "id": "f60a7927",
   "metadata": {},
   "outputs": [],
   "source": [
    "df['price']=df['price'].astype(float)\n",
    "df['rating']=df['rating'].astype(float)\n",
    "df['discount']=df['discount'].astype(float)"
   ]
  },
  {
   "cell_type": "code",
   "execution_count": 106,
   "id": "0b949d03",
   "metadata": {
    "scrolled": true
   },
   "outputs": [
    {
     "data": {
      "text/html": [
       "<div>\n",
       "<style scoped>\n",
       "    .dataframe tbody tr th:only-of-type {\n",
       "        vertical-align: middle;\n",
       "    }\n",
       "\n",
       "    .dataframe tbody tr th {\n",
       "        vertical-align: top;\n",
       "    }\n",
       "\n",
       "    .dataframe thead th {\n",
       "        text-align: right;\n",
       "    }\n",
       "</style>\n",
       "<table border=\"1\" class=\"dataframe\">\n",
       "  <thead>\n",
       "    <tr style=\"text-align: right;\">\n",
       "      <th></th>\n",
       "      <th>name</th>\n",
       "      <th>price</th>\n",
       "      <th>rating</th>\n",
       "      <th>dis_ends</th>\n",
       "      <th>dis_start</th>\n",
       "      <th>release</th>\n",
       "      <th>discount</th>\n",
       "    </tr>\n",
       "  </thead>\n",
       "  <tbody>\n",
       "    <tr>\n",
       "      <th>0</th>\n",
       "      <td>Little Inferno\\nnew historical low</td>\n",
       "      <td>2.99</td>\n",
       "      <td>91.28</td>\n",
       "      <td>in 3 days</td>\n",
       "      <td>4 hours ago</td>\n",
       "      <td>9 years ago</td>\n",
       "      <td>90.0</td>\n",
       "    </tr>\n",
       "    <tr>\n",
       "      <th>1</th>\n",
       "      <td>Human Resource Machine\\nnew historical low</td>\n",
       "      <td>7.48</td>\n",
       "      <td>90.11</td>\n",
       "      <td>in 3 days</td>\n",
       "      <td>4 hours ago</td>\n",
       "      <td>6 years ago</td>\n",
       "      <td>75.0</td>\n",
       "    </tr>\n",
       "    <tr>\n",
       "      <th>2</th>\n",
       "      <td>HIVESWAP: ACT 1\\nnew historical low</td>\n",
       "      <td>6.28</td>\n",
       "      <td>89.56</td>\n",
       "      <td>in 2 days</td>\n",
       "      <td>4 hours ago</td>\n",
       "      <td>4 years ago</td>\n",
       "      <td>65.0</td>\n",
       "    </tr>\n",
       "    <tr>\n",
       "      <th>3</th>\n",
       "      <td>7 Billion Humans\\nnew historical low</td>\n",
       "      <td>7.48</td>\n",
       "      <td>88.34</td>\n",
       "      <td>in 3 days</td>\n",
       "      <td>4 hours ago</td>\n",
       "      <td>3 years ago</td>\n",
       "      <td>75.0</td>\n",
       "    </tr>\n",
       "    <tr>\n",
       "      <th>4</th>\n",
       "      <td>Pesterquest\\nnew historical low</td>\n",
       "      <td>8.48</td>\n",
       "      <td>86.06</td>\n",
       "      <td>in 2 days</td>\n",
       "      <td>4 hours ago</td>\n",
       "      <td>2 years ago</td>\n",
       "      <td>66.0</td>\n",
       "    </tr>\n",
       "  </tbody>\n",
       "</table>\n",
       "</div>"
      ],
      "text/plain": [
       "                                         name  price  rating   dis_ends  \\\n",
       "0          Little Inferno\\nnew historical low   2.99   91.28  in 3 days   \n",
       "1  Human Resource Machine\\nnew historical low   7.48   90.11  in 3 days   \n",
       "2         HIVESWAP: ACT 1\\nnew historical low   6.28   89.56  in 2 days   \n",
       "3        7 Billion Humans\\nnew historical low   7.48   88.34  in 3 days   \n",
       "4             Pesterquest\\nnew historical low   8.48   86.06  in 2 days   \n",
       "\n",
       "     dis_start      release  discount  \n",
       "0  4 hours ago  9 years ago      90.0  \n",
       "1  4 hours ago  6 years ago      75.0  \n",
       "2  4 hours ago  4 years ago      65.0  \n",
       "3  4 hours ago  3 years ago      75.0  \n",
       "4  4 hours ago  2 years ago      66.0  "
      ]
     },
     "execution_count": 106,
     "metadata": {},
     "output_type": "execute_result"
    }
   ],
   "source": [
    "df.head()"
   ]
  },
  {
   "cell_type": "code",
   "execution_count": 107,
   "id": "35d3e859",
   "metadata": {},
   "outputs": [],
   "source": [
    "df['release'].fillna(df['release'].mode(),inplace=True)"
   ]
  },
  {
   "cell_type": "code",
   "execution_count": 108,
   "id": "f9e83337",
   "metadata": {},
   "outputs": [],
   "source": [
    "df['dis_ends'].fillna(df['dis_ends'].mode(),inplace=True)"
   ]
  },
  {
   "cell_type": "code",
   "execution_count": 109,
   "id": "dcb67e36",
   "metadata": {},
   "outputs": [],
   "source": [
    "df['dis_start'].fillna(df['dis_start'].mode(),inplace=True)"
   ]
  },
  {
   "cell_type": "code",
   "execution_count": 131,
   "id": "d36ada06",
   "metadata": {},
   "outputs": [
    {
     "data": {
      "text/plain": [
       "name           0\n",
       "price          0\n",
       "rating         0\n",
       "dis_ends     219\n",
       "dis_start    219\n",
       "release      219\n",
       "discount       0\n",
       "recent       219\n",
       "op             0\n",
       "dtype: int64"
      ]
     },
     "execution_count": 131,
     "metadata": {},
     "output_type": "execute_result"
    }
   ],
   "source": [
    "df.isna().sum()"
   ]
  },
  {
   "cell_type": "code",
   "execution_count": 134,
   "id": "9f36d8a4",
   "metadata": {},
   "outputs": [],
   "source": [
    "df.dropna(inplace=True)"
   ]
  },
  {
   "cell_type": "code",
   "execution_count": 112,
   "id": "ffeb1c6d",
   "metadata": {},
   "outputs": [],
   "source": [
    "df['discount']=df.apply(lambda row: float(row['discount']) * 0.01,axis=1)"
   ]
  },
  {
   "cell_type": "code",
   "execution_count": 113,
   "id": "90ce954b",
   "metadata": {},
   "outputs": [
    {
     "data": {
      "text/html": [
       "<div>\n",
       "<style scoped>\n",
       "    .dataframe tbody tr th:only-of-type {\n",
       "        vertical-align: middle;\n",
       "    }\n",
       "\n",
       "    .dataframe tbody tr th {\n",
       "        vertical-align: top;\n",
       "    }\n",
       "\n",
       "    .dataframe thead th {\n",
       "        text-align: right;\n",
       "    }\n",
       "</style>\n",
       "<table border=\"1\" class=\"dataframe\">\n",
       "  <thead>\n",
       "    <tr style=\"text-align: right;\">\n",
       "      <th></th>\n",
       "      <th>name</th>\n",
       "      <th>price</th>\n",
       "      <th>rating</th>\n",
       "      <th>dis_ends</th>\n",
       "      <th>dis_start</th>\n",
       "      <th>release</th>\n",
       "      <th>discount</th>\n",
       "    </tr>\n",
       "  </thead>\n",
       "  <tbody>\n",
       "    <tr>\n",
       "      <th>0</th>\n",
       "      <td>Little Inferno\\nnew historical low</td>\n",
       "      <td>2.99</td>\n",
       "      <td>91.28</td>\n",
       "      <td>in 3 days</td>\n",
       "      <td>4 hours ago</td>\n",
       "      <td>9 years ago</td>\n",
       "      <td>0.90</td>\n",
       "    </tr>\n",
       "    <tr>\n",
       "      <th>1</th>\n",
       "      <td>Human Resource Machine\\nnew historical low</td>\n",
       "      <td>7.48</td>\n",
       "      <td>90.11</td>\n",
       "      <td>in 3 days</td>\n",
       "      <td>4 hours ago</td>\n",
       "      <td>6 years ago</td>\n",
       "      <td>0.75</td>\n",
       "    </tr>\n",
       "    <tr>\n",
       "      <th>2</th>\n",
       "      <td>HIVESWAP: ACT 1\\nnew historical low</td>\n",
       "      <td>6.28</td>\n",
       "      <td>89.56</td>\n",
       "      <td>in 2 days</td>\n",
       "      <td>4 hours ago</td>\n",
       "      <td>4 years ago</td>\n",
       "      <td>0.65</td>\n",
       "    </tr>\n",
       "    <tr>\n",
       "      <th>3</th>\n",
       "      <td>7 Billion Humans\\nnew historical low</td>\n",
       "      <td>7.48</td>\n",
       "      <td>88.34</td>\n",
       "      <td>in 3 days</td>\n",
       "      <td>4 hours ago</td>\n",
       "      <td>3 years ago</td>\n",
       "      <td>0.75</td>\n",
       "    </tr>\n",
       "    <tr>\n",
       "      <th>4</th>\n",
       "      <td>Pesterquest\\nnew historical low</td>\n",
       "      <td>8.48</td>\n",
       "      <td>86.06</td>\n",
       "      <td>in 2 days</td>\n",
       "      <td>4 hours ago</td>\n",
       "      <td>2 years ago</td>\n",
       "      <td>0.66</td>\n",
       "    </tr>\n",
       "  </tbody>\n",
       "</table>\n",
       "</div>"
      ],
      "text/plain": [
       "                                         name  price  rating   dis_ends  \\\n",
       "0          Little Inferno\\nnew historical low   2.99   91.28  in 3 days   \n",
       "1  Human Resource Machine\\nnew historical low   7.48   90.11  in 3 days   \n",
       "2         HIVESWAP: ACT 1\\nnew historical low   6.28   89.56  in 2 days   \n",
       "3        7 Billion Humans\\nnew historical low   7.48   88.34  in 3 days   \n",
       "4             Pesterquest\\nnew historical low   8.48   86.06  in 2 days   \n",
       "\n",
       "     dis_start      release  discount  \n",
       "0  4 hours ago  9 years ago      0.90  \n",
       "1  4 hours ago  6 years ago      0.75  \n",
       "2  4 hours ago  4 years ago      0.65  \n",
       "3  4 hours ago  3 years ago      0.75  \n",
       "4  4 hours ago  2 years ago      0.66  "
      ]
     },
     "execution_count": 113,
     "metadata": {},
     "output_type": "execute_result"
    }
   ],
   "source": [
    "df.head()"
   ]
  },
  {
   "cell_type": "code",
   "execution_count": 114,
   "id": "f6cf2ec8",
   "metadata": {},
   "outputs": [],
   "source": [
    "df['name']=df.apply(lambda row: row['name'].split('\\n')[0],axis=1)"
   ]
  },
  {
   "cell_type": "code",
   "execution_count": 115,
   "id": "77be9015",
   "metadata": {},
   "outputs": [
    {
     "data": {
      "text/html": [
       "<div>\n",
       "<style scoped>\n",
       "    .dataframe tbody tr th:only-of-type {\n",
       "        vertical-align: middle;\n",
       "    }\n",
       "\n",
       "    .dataframe tbody tr th {\n",
       "        vertical-align: top;\n",
       "    }\n",
       "\n",
       "    .dataframe thead th {\n",
       "        text-align: right;\n",
       "    }\n",
       "</style>\n",
       "<table border=\"1\" class=\"dataframe\">\n",
       "  <thead>\n",
       "    <tr style=\"text-align: right;\">\n",
       "      <th></th>\n",
       "      <th>name</th>\n",
       "      <th>price</th>\n",
       "      <th>rating</th>\n",
       "      <th>dis_ends</th>\n",
       "      <th>dis_start</th>\n",
       "      <th>release</th>\n",
       "      <th>discount</th>\n",
       "    </tr>\n",
       "  </thead>\n",
       "  <tbody>\n",
       "    <tr>\n",
       "      <th>0</th>\n",
       "      <td>Little Inferno</td>\n",
       "      <td>2.99</td>\n",
       "      <td>91.28</td>\n",
       "      <td>in 3 days</td>\n",
       "      <td>4 hours ago</td>\n",
       "      <td>9 years ago</td>\n",
       "      <td>0.90</td>\n",
       "    </tr>\n",
       "    <tr>\n",
       "      <th>1</th>\n",
       "      <td>Human Resource Machine</td>\n",
       "      <td>7.48</td>\n",
       "      <td>90.11</td>\n",
       "      <td>in 3 days</td>\n",
       "      <td>4 hours ago</td>\n",
       "      <td>6 years ago</td>\n",
       "      <td>0.75</td>\n",
       "    </tr>\n",
       "    <tr>\n",
       "      <th>2</th>\n",
       "      <td>HIVESWAP: ACT 1</td>\n",
       "      <td>6.28</td>\n",
       "      <td>89.56</td>\n",
       "      <td>in 2 days</td>\n",
       "      <td>4 hours ago</td>\n",
       "      <td>4 years ago</td>\n",
       "      <td>0.65</td>\n",
       "    </tr>\n",
       "    <tr>\n",
       "      <th>3</th>\n",
       "      <td>7 Billion Humans</td>\n",
       "      <td>7.48</td>\n",
       "      <td>88.34</td>\n",
       "      <td>in 3 days</td>\n",
       "      <td>4 hours ago</td>\n",
       "      <td>3 years ago</td>\n",
       "      <td>0.75</td>\n",
       "    </tr>\n",
       "    <tr>\n",
       "      <th>4</th>\n",
       "      <td>Pesterquest</td>\n",
       "      <td>8.48</td>\n",
       "      <td>86.06</td>\n",
       "      <td>in 2 days</td>\n",
       "      <td>4 hours ago</td>\n",
       "      <td>2 years ago</td>\n",
       "      <td>0.66</td>\n",
       "    </tr>\n",
       "  </tbody>\n",
       "</table>\n",
       "</div>"
      ],
      "text/plain": [
       "                     name  price  rating   dis_ends    dis_start      release  \\\n",
       "0          Little Inferno   2.99   91.28  in 3 days  4 hours ago  9 years ago   \n",
       "1  Human Resource Machine   7.48   90.11  in 3 days  4 hours ago  6 years ago   \n",
       "2         HIVESWAP: ACT 1   6.28   89.56  in 2 days  4 hours ago  4 years ago   \n",
       "3        7 Billion Humans   7.48   88.34  in 3 days  4 hours ago  3 years ago   \n",
       "4             Pesterquest   8.48   86.06  in 2 days  4 hours ago  2 years ago   \n",
       "\n",
       "   discount  \n",
       "0      0.90  \n",
       "1      0.75  \n",
       "2      0.65  \n",
       "3      0.75  \n",
       "4      0.66  "
      ]
     },
     "execution_count": 115,
     "metadata": {},
     "output_type": "execute_result"
    }
   ],
   "source": [
    "df.head()"
   ]
  },
  {
   "cell_type": "markdown",
   "id": "3aafaa8f",
   "metadata": {},
   "source": [
    "# Feauter Engineering "
   ]
  },
  {
   "cell_type": "code",
   "execution_count": 129,
   "id": "6b4f0100",
   "metadata": {},
   "outputs": [],
   "source": [
    "df['recent'].fillna(df['recent'].mode(),inplace=True)"
   ]
  },
  {
   "cell_type": "code",
   "execution_count": 119,
   "id": "fa858f46",
   "metadata": {},
   "outputs": [],
   "source": [
    "df['op']=df.apply(lambda row: abs(row['price']/1-(row['discount']*100)),axis=1)"
   ]
  },
  {
   "cell_type": "code",
   "execution_count": 135,
   "id": "c2c2a3df",
   "metadata": {},
   "outputs": [],
   "source": [
    "df['recent']=df.apply(lambda row: 0 if(('years' in row['recent']) and (int(row['recent'][0])>=4)) else 1,axis=1)"
   ]
  },
  {
   "cell_type": "code",
   "execution_count": 136,
   "id": "c1d603a8",
   "metadata": {},
   "outputs": [
    {
     "data": {
      "text/html": [
       "<div>\n",
       "<style scoped>\n",
       "    .dataframe tbody tr th:only-of-type {\n",
       "        vertical-align: middle;\n",
       "    }\n",
       "\n",
       "    .dataframe tbody tr th {\n",
       "        vertical-align: top;\n",
       "    }\n",
       "\n",
       "    .dataframe thead th {\n",
       "        text-align: right;\n",
       "    }\n",
       "</style>\n",
       "<table border=\"1\" class=\"dataframe\">\n",
       "  <thead>\n",
       "    <tr style=\"text-align: right;\">\n",
       "      <th></th>\n",
       "      <th>name</th>\n",
       "      <th>price</th>\n",
       "      <th>rating</th>\n",
       "      <th>dis_ends</th>\n",
       "      <th>dis_start</th>\n",
       "      <th>release</th>\n",
       "      <th>discount</th>\n",
       "      <th>recent</th>\n",
       "      <th>op</th>\n",
       "    </tr>\n",
       "  </thead>\n",
       "  <tbody>\n",
       "    <tr>\n",
       "      <th>0</th>\n",
       "      <td>Little Inferno</td>\n",
       "      <td>2.99</td>\n",
       "      <td>91.28</td>\n",
       "      <td>in 3 days</td>\n",
       "      <td>4 hours ago</td>\n",
       "      <td>9 years ago</td>\n",
       "      <td>0.90</td>\n",
       "      <td>0</td>\n",
       "      <td>87.01</td>\n",
       "    </tr>\n",
       "    <tr>\n",
       "      <th>1</th>\n",
       "      <td>Human Resource Machine</td>\n",
       "      <td>7.48</td>\n",
       "      <td>90.11</td>\n",
       "      <td>in 3 days</td>\n",
       "      <td>4 hours ago</td>\n",
       "      <td>6 years ago</td>\n",
       "      <td>0.75</td>\n",
       "      <td>0</td>\n",
       "      <td>67.52</td>\n",
       "    </tr>\n",
       "    <tr>\n",
       "      <th>2</th>\n",
       "      <td>HIVESWAP: ACT 1</td>\n",
       "      <td>6.28</td>\n",
       "      <td>89.56</td>\n",
       "      <td>in 2 days</td>\n",
       "      <td>4 hours ago</td>\n",
       "      <td>4 years ago</td>\n",
       "      <td>0.65</td>\n",
       "      <td>0</td>\n",
       "      <td>58.72</td>\n",
       "    </tr>\n",
       "    <tr>\n",
       "      <th>3</th>\n",
       "      <td>7 Billion Humans</td>\n",
       "      <td>7.48</td>\n",
       "      <td>88.34</td>\n",
       "      <td>in 3 days</td>\n",
       "      <td>4 hours ago</td>\n",
       "      <td>3 years ago</td>\n",
       "      <td>0.75</td>\n",
       "      <td>1</td>\n",
       "      <td>67.52</td>\n",
       "    </tr>\n",
       "    <tr>\n",
       "      <th>4</th>\n",
       "      <td>Pesterquest</td>\n",
       "      <td>8.48</td>\n",
       "      <td>86.06</td>\n",
       "      <td>in 2 days</td>\n",
       "      <td>4 hours ago</td>\n",
       "      <td>2 years ago</td>\n",
       "      <td>0.66</td>\n",
       "      <td>1</td>\n",
       "      <td>57.52</td>\n",
       "    </tr>\n",
       "  </tbody>\n",
       "</table>\n",
       "</div>"
      ],
      "text/plain": [
       "                     name  price  rating   dis_ends    dis_start      release  \\\n",
       "0          Little Inferno   2.99   91.28  in 3 days  4 hours ago  9 years ago   \n",
       "1  Human Resource Machine   7.48   90.11  in 3 days  4 hours ago  6 years ago   \n",
       "2         HIVESWAP: ACT 1   6.28   89.56  in 2 days  4 hours ago  4 years ago   \n",
       "3        7 Billion Humans   7.48   88.34  in 3 days  4 hours ago  3 years ago   \n",
       "4             Pesterquest   8.48   86.06  in 2 days  4 hours ago  2 years ago   \n",
       "\n",
       "   discount  recent     op  \n",
       "0      0.90       0  87.01  \n",
       "1      0.75       0  67.52  \n",
       "2      0.65       0  58.72  \n",
       "3      0.75       1  67.52  \n",
       "4      0.66       1  57.52  "
      ]
     },
     "execution_count": 136,
     "metadata": {},
     "output_type": "execute_result"
    }
   ],
   "source": [
    "df.head()"
   ]
  },
  {
   "cell_type": "code",
   "execution_count": 138,
   "id": "e6de21f1",
   "metadata": {},
   "outputs": [],
   "source": [
    "df.drop(columns=['price'],inplace=True)"
   ]
  },
  {
   "cell_type": "code",
   "execution_count": 140,
   "id": "c1bf2015",
   "metadata": {},
   "outputs": [],
   "source": [
    "df.drop(columns=['release'],inplace=True)"
   ]
  },
  {
   "cell_type": "markdown",
   "id": "fc28b5e4",
   "metadata": {},
   "source": [
    "# EDA"
   ]
  },
  {
   "cell_type": "code",
   "execution_count": 141,
   "id": "63c7cbd7",
   "metadata": {},
   "outputs": [
    {
     "data": {
      "text/plain": [
       "<AxesSubplot:>"
      ]
     },
     "execution_count": 141,
     "metadata": {},
     "output_type": "execute_result"
    },
    {
     "data": {
      "image/png": "[encoded data removed]",
      "text/plain": [
       "<Figure size 432x288 with 2 Axes>"
      ]
     },
     "metadata": {
      "needs_background": "light"
     },
     "output_type": "display_data"
    }
   ],
   "source": [
    "sns.heatmap(df.corr(),cmap=\"YlGnBu\",annot=True) \n"
   ]
  },
  {
   "cell_type": "code",
   "execution_count": 142,
   "id": "2cc88a5f",
   "metadata": {},
   "outputs": [
    {
     "data": {
      "text/plain": [
       "<seaborn.axisgrid.PairGrid at 0x7fe7a069b4f0>"
      ]
     },
     "execution_count": 142,
     "metadata": {},
     "output_type": "execute_result"
    },
    {
     "data": {
      "image/png": "[encoded data removed]",
      "text/plain": [
       "<Figure size 720x720 with 20 Axes>"
      ]
     },
     "metadata": {
      "needs_background": "light"
     },
     "output_type": "display_data"
    }
   ],
   "source": [
    "sns.pairplot(df)"
   ]
  },
  {
   "cell_type": "code",
   "execution_count": 285,
   "id": "b193db43",
   "metadata": {},
   "outputs": [
    {
     "data": {
      "text/plain": [
       "<AxesSubplot:xlabel='discount'>"
      ]
     },
     "execution_count": 285,
     "metadata": {},
     "output_type": "execute_result"
    },
    {
     "data": {
      "image/png": "[encoded data removed]",
      "text/plain": [
       "<Figure size 432x288 with 1 Axes>"
      ]
     },
     "metadata": {
      "needs_background": "light"
     },
     "output_type": "display_data"
    }
   ],
   "source": [
    "sns.boxplot(df['discount'])"
   ]
  },
  {
   "cell_type": "code",
   "execution_count": 294,
   "id": "5e43e1d8",
   "metadata": {},
   "outputs": [
    {
     "name": "stderr",
     "output_type": "stream",
     "text": [
      "/Users/workplace/opt/anaconda3/lib/python3.8/site-packages/seaborn/_decorators.py:36: FutureWarning: Pass the following variable as a keyword arg: x. From version 0.12, the only valid positional argument will be `data`, and passing other arguments without an explicit keyword will result in an error or misinterpretation.\n",
      "  warnings.warn(\n"
     ]
    },
    {
     "data": {
      "text/plain": [
       "<AxesSubplot:xlabel='op'>"
      ]
     },
     "execution_count": 294,
     "metadata": {},
     "output_type": "execute_result"
    },
    {
     "data": {
      "image/png": "[encoded data removed]",
      "text/plain": [
       "<Figure size 432x288 with 1 Axes>"
      ]
     },
     "metadata": {
      "needs_background": "light"
     },
     "output_type": "display_data"
    }
   ],
   "source": [
    "sns.boxplot(df['op'])"
   ]
  },
  {
   "cell_type": "markdown",
   "id": "229c733c",
   "metadata": {},
   "source": [
    "# Linear Regression Model"
   ]
  },
  {
   "cell_type": "code",
   "execution_count": 192,
   "id": "2e0ae631",
   "metadata": {},
   "outputs": [],
   "source": [
    "X=df[['rating','recent','op']]\n",
    "y=df.discount"
   ]
  },
  {
   "cell_type": "code",
   "execution_count": 380,
   "id": "50f4fff1",
   "metadata": {},
   "outputs": [],
   "source": [
    "X_train, X_test, y_train, y_test = train_test_split(X, y, test_size=0.2, random_state=6)\n",
    "\n",
    "X_train, X_val, y_train, y_val = train_test_split(X_train, y_train, test_size=0.2, random_state=6)"
   ]
  },
  {
   "cell_type": "code",
   "execution_count": 381,
   "id": "b3308d53",
   "metadata": {},
   "outputs": [
    {
     "data": {
      "text/plain": [
       "LinearRegression()"
      ]
     },
     "execution_count": 381,
     "metadata": {},
     "output_type": "execute_result"
    }
   ],
   "source": [
    "regressor = LinearRegression()\n",
    "regressor.fit(X_train, y_train)"
   ]
  },
  {
   "cell_type": "code",
   "execution_count": 382,
   "id": "16cbe00b",
   "metadata": {},
   "outputs": [
    {
     "data": {
      "text/plain": [
       "0.852887927206056"
      ]
     },
     "execution_count": 382,
     "metadata": {},
     "output_type": "execute_result"
    }
   ],
   "source": [
    "regressor.score(X_train, y_train)"
   ]
  },
  {
   "cell_type": "code",
   "execution_count": 383,
   "id": "c50d0568",
   "metadata": {},
   "outputs": [
    {
     "data": {
      "text/plain": [
       "0.8416817127810393"
      ]
     },
     "execution_count": 383,
     "metadata": {},
     "output_type": "execute_result"
    }
   ],
   "source": [
    "regressor.score(X_val, y_val)"
   ]
  },
  {
   "cell_type": "code",
   "execution_count": 384,
   "id": "cfb0f84a",
   "metadata": {},
   "outputs": [
    {
     "data": {
      "text/plain": [
       "0.8129831626287737"
      ]
     },
     "execution_count": 384,
     "metadata": {},
     "output_type": "execute_result"
    }
   ],
   "source": [
    "regressor.score(X_test, y_test)"
   ]
  },
  {
   "cell_type": "code",
   "execution_count": 287,
   "id": "66eddece",
   "metadata": {},
   "outputs": [],
   "source": [
    "y_predicted=regressor.predict(X_test)"
   ]
  },
  {
   "cell_type": "code",
   "execution_count": 290,
   "id": "5a4ee479",
   "metadata": {},
   "outputs": [
    {
     "data": {
      "image/png": "[encoded data removed]",
      "text/plain": [
       "<Figure size 432x288 with 1 Axes>"
      ]
     },
     "metadata": {
      "needs_background": "light"
     },
     "output_type": "display_data"
    }
   ],
   "source": [
    "fig, ax = plt.subplots()\n",
    "ax.scatter(y_predicted, y_test, edgecolors=(0, 0, 1))\n",
    "ax.plot([y_test.min(), y_test.max()], [y_test.min(), y_test.max()], 'r--', lw=3)\n",
    "ax.set_xlabel('Predicted')\n",
    "ax.set_ylabel('Actual')\n",
    "plt.show()\n"
   ]
  },
  {
   "cell_type": "code",
   "execution_count": 295,
   "id": "2a833290",
   "metadata": {},
   "outputs": [
    {
     "name": "stdout",
     "output_type": "stream",
     "text": [
      "The model performance for testing set\n",
      "--------------------------------------\n",
      "MAE is 0.060509529749583284\n",
      "MSE is 0.007502251015179731\n"
     ]
    }
   ],
   "source": [
    "# model evaluation for testing set\n",
    "\n",
    "mae = metrics.mean_absolute_error(y_test, y_predicted)\n",
    "mse = metrics.mean_squared_error(y_test, y_predicted)\n",
    "\n",
    "print(\"The model performance for testing set\")\n",
    "print(\"--------------------------------------\")\n",
    "print('MAE is {}'.format(mae))\n",
    "print('MSE is {}'.format(mse))\n"
   ]
  },
  {
   "cell_type": "code",
   "execution_count": 339,
   "id": "5e455172",
   "metadata": {
    "scrolled": true
   },
   "outputs": [
    {
     "data": {
      "text/plain": [
       "count    987.000000\n",
       "mean       0.528227\n",
       "std        0.231439\n",
       "min        0.050000\n",
       "25%        0.400000\n",
       "50%        0.500000\n",
       "75%        0.730000\n",
       "max        0.900000\n",
       "Name: discount, dtype: float64"
      ]
     },
     "execution_count": 339,
     "metadata": {},
     "output_type": "execute_result"
    }
   ],
   "source": [
    "df['discount'].describe()"
   ]
  },
  {
   "cell_type": "markdown",
   "id": "32f4214c",
   "metadata": {},
   "source": [
    "# Polynomial Regression Model"
   ]
  },
  {
   "cell_type": "code",
   "execution_count": 280,
   "id": "c6333aed",
   "metadata": {},
   "outputs": [
    {
     "data": {
      "text/plain": [
       "Pipeline(steps=[('polynomialfeatures', PolynomialFeatures(degree=5)),\n",
       "                ('standardscaler', StandardScaler()),\n",
       "                ('linearregression', LinearRegression())])"
      ]
     },
     "execution_count": 280,
     "metadata": {},
     "output_type": "execute_result"
    }
   ],
   "source": [
    "scaler = preprocessing.StandardScaler()\n",
    "degree=5\n",
    "polyreg_scaled=make_pipeline(PolynomialFeatures(degree),scaler,LinearRegression())\n",
    "polyreg_scaled.fit(X_train, y_train)"
   ]
  },
  {
   "cell_type": "code",
   "execution_count": 281,
   "id": "50347468",
   "metadata": {},
   "outputs": [
    {
     "data": {
      "text/plain": [
       "0.8831594087907316"
      ]
     },
     "execution_count": 281,
     "metadata": {},
     "output_type": "execute_result"
    }
   ],
   "source": [
    "polyreg_scaled.score(X_train, y_train)"
   ]
  },
  {
   "cell_type": "code",
   "execution_count": 282,
   "id": "a8d66e2d",
   "metadata": {},
   "outputs": [
    {
     "data": {
      "text/plain": [
       "0.8352089022974507"
      ]
     },
     "execution_count": 282,
     "metadata": {},
     "output_type": "execute_result"
    }
   ],
   "source": [
    "polyreg_scaled.score(X_val, y_val)"
   ]
  },
  {
   "cell_type": "code",
   "execution_count": 283,
   "id": "17819507",
   "metadata": {},
   "outputs": [
    {
     "data": {
      "text/plain": [
       "0.8609110305976473"
      ]
     },
     "execution_count": 283,
     "metadata": {},
     "output_type": "execute_result"
    }
   ],
   "source": [
    "polyreg_scaled.score(X_test, y_test)"
   ]
  },
  {
   "cell_type": "code",
   "execution_count": 292,
   "id": "949ae3bb",
   "metadata": {},
   "outputs": [],
   "source": [
    "polyreg_y_pred=polyreg_scaled.predict(X_test)"
   ]
  },
  {
   "cell_type": "code",
   "execution_count": 293,
   "id": "135bdf81",
   "metadata": {},
   "outputs": [
    {
     "data": {
      "image/png": "[encoded data removed]",
      "text/plain": [
       "<Figure size 432x288 with 1 Axes>"
      ]
     },
     "metadata": {
      "needs_background": "light"
     },
     "output_type": "display_data"
    }
   ],
   "source": [
    "fig, ax = plt.subplots()\n",
    "ax.scatter(polyreg_y_pred, y_test, edgecolors=(0, 0, 1))\n",
    "ax.plot([y_test.min(), y_test.max()], [y_test.min(), y_test.max()], 'r--', lw=3)\n",
    "ax.set_xlabel('Predicted')\n",
    "ax.set_ylabel('Actual')\n",
    "plt.show()\n"
   ]
  },
  {
   "cell_type": "code",
   "execution_count": 298,
   "id": "a0f218af",
   "metadata": {},
   "outputs": [
    {
     "name": "stdout",
     "output_type": "stream",
     "text": [
      "The model performance for testing set\n",
      "--------------------------------------\n",
      "MAE is 0.05377827247125458\n",
      "MSE is 0.008112178227070834\n"
     ]
    }
   ],
   "source": [
    "# model evaluation for testing set\n",
    "\n",
    "mae = metrics.mean_absolute_error(y_test, polyreg_y_pred)\n",
    "mse = metrics.mean_squared_error(y_test, polyreg_y_pred)\n",
    "\n",
    "print(\"The model performance for testing set\")\n",
    "print(\"--------------------------------------\")\n",
    "print('MAE is {}'.format(mae))\n",
    "print('MSE is {}'.format(mse))\n"
   ]
  },
  {
   "cell_type": "code",
   "execution_count": null,
   "id": "8d62781a",
   "metadata": {},
   "outputs": [],
   "source": []
  },
  {
   "cell_type": "code",
   "execution_count": null,
   "id": "dcbece1f",
   "metadata": {},
   "outputs": [],
   "source": []
  }
 ],
 "metadata": {
  "kernelspec": {
   "display_name": "Python 3",
   "language": "python",
   "name": "python3"
  },
  "language_info": {
   "codemirror_mode": {
    "name": "ipython",
    "version": 3
   },
   "file_extension": ".py",
   "mimetype": "text/x-python",
   "name": "python",
   "nbconvert_exporter": "python",
   "pygments_lexer": "ipython3",
   "version": "3.8.8"
  }
 },
 "nbformat": 4,
 "nbformat_minor": 5
}
